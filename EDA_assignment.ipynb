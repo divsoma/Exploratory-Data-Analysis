{
 "cells": [
  {
   "cell_type": "code",
   "execution_count": 1,
   "id": "ad3371f0",
   "metadata": {},
   "outputs": [],
   "source": [
    "import numpy as np\n",
    "import pandas as pd\n",
    "import matplotlib.pyplot as plt\n",
    "import seaborn as sns\n",
    "import warnings\n",
    "warnings.filterwarnings(\"ignore\")"
   ]
  },
  {
   "cell_type": "code",
   "execution_count": 2,
   "id": "dfd05899",
   "metadata": {},
   "outputs": [
    {
     "data": {
      "text/html": [
       "<div>\n",
       "<style scoped>\n",
       "    .dataframe tbody tr th:only-of-type {\n",
       "        vertical-align: middle;\n",
       "    }\n",
       "\n",
       "    .dataframe tbody tr th {\n",
       "        vertical-align: top;\n",
       "    }\n",
       "\n",
       "    .dataframe thead th {\n",
       "        text-align: right;\n",
       "    }\n",
       "</style>\n",
       "<table border=\"1\" class=\"dataframe\">\n",
       "  <thead>\n",
       "    <tr style=\"text-align: right;\">\n",
       "      <th></th>\n",
       "      <th>Background</th>\n",
       "      <th>Machine Learning</th>\n",
       "      <th>Python</th>\n",
       "      <th>Remark</th>\n",
       "    </tr>\n",
       "  </thead>\n",
       "  <tbody>\n",
       "    <tr>\n",
       "      <th>0</th>\n",
       "      <td>Tech</td>\n",
       "      <td>78.0</td>\n",
       "      <td>98.0</td>\n",
       "      <td>Pass</td>\n",
       "    </tr>\n",
       "    <tr>\n",
       "      <th>1</th>\n",
       "      <td>Tech</td>\n",
       "      <td>NaN</td>\n",
       "      <td>10.0</td>\n",
       "      <td>Fail</td>\n",
       "    </tr>\n",
       "    <tr>\n",
       "      <th>2</th>\n",
       "      <td>Non-Tech</td>\n",
       "      <td>69.0</td>\n",
       "      <td>NaN</td>\n",
       "      <td>Pass</td>\n",
       "    </tr>\n",
       "    <tr>\n",
       "      <th>3</th>\n",
       "      <td>Non-Tech</td>\n",
       "      <td>76.0</td>\n",
       "      <td>56.0</td>\n",
       "      <td>Pass</td>\n",
       "    </tr>\n",
       "    <tr>\n",
       "      <th>4</th>\n",
       "      <td>Tech</td>\n",
       "      <td>NaN</td>\n",
       "      <td>NaN</td>\n",
       "      <td>Pass</td>\n",
       "    </tr>\n",
       "  </tbody>\n",
       "</table>\n",
       "</div>"
      ],
      "text/plain": [
       "  Background  Machine Learning  Python Remark\n",
       "0       Tech              78.0    98.0   Pass\n",
       "1       Tech               NaN    10.0   Fail\n",
       "2   Non-Tech              69.0     NaN   Pass\n",
       "3   Non-Tech              76.0    56.0   Pass\n",
       "4       Tech               NaN     NaN   Pass"
      ]
     },
     "execution_count": 2,
     "metadata": {},
     "output_type": "execute_result"
    }
   ],
   "source": [
    "df=pd.read_csv(\"D:\\\\Datascience\\\\DataSets\\\\Students.csv\")\n",
    "df.head()"
   ]
  },
  {
   "cell_type": "code",
   "execution_count": 3,
   "id": "38851b70",
   "metadata": {},
   "outputs": [
    {
     "name": "stdout",
     "output_type": "stream",
     "text": [
      "<class 'pandas.core.frame.DataFrame'>\n",
      "RangeIndex: 10 entries, 0 to 9\n",
      "Data columns (total 4 columns):\n",
      " #   Column            Non-Null Count  Dtype  \n",
      "---  ------            --------------  -----  \n",
      " 0   Background        10 non-null     object \n",
      " 1   Machine Learning  6 non-null      float64\n",
      " 2   Python            7 non-null      float64\n",
      " 3   Remark            10 non-null     object \n",
      "dtypes: float64(2), object(2)\n",
      "memory usage: 448.0+ bytes\n"
     ]
    }
   ],
   "source": [
    "df.info()"
   ]
  },
  {
   "cell_type": "markdown",
   "id": "1e4ce09a",
   "metadata": {},
   "source": [
    "# Dividing the Data Set into X and Y"
   ]
  },
  {
   "cell_type": "code",
   "execution_count": 4,
   "id": "c9e260c2",
   "metadata": {},
   "outputs": [],
   "source": [
    "x=df.iloc[:,:-1].values\n",
    "y=df.iloc[:,-1].values"
   ]
  },
  {
   "cell_type": "code",
   "execution_count": 5,
   "id": "040044d7",
   "metadata": {},
   "outputs": [
    {
     "data": {
      "text/plain": [
       "array([['Tech', 78.0, 98.0],\n",
       "       ['Tech', nan, 10.0],\n",
       "       ['Non-Tech', 69.0, nan],\n",
       "       ['Non-Tech', 76.0, 56.0],\n",
       "       ['Tech', nan, nan],\n",
       "       ['Tech', 20.0, 40.0],\n",
       "       ['Tech', nan, 10.0],\n",
       "       ['Non-Tech', 54.0, 20.0],\n",
       "       ['Tech', 87.0, 98.0],\n",
       "       ['Non-Tech', nan, nan]], dtype=object)"
      ]
     },
     "execution_count": 5,
     "metadata": {},
     "output_type": "execute_result"
    }
   ],
   "source": [
    "x"
   ]
  },
  {
   "cell_type": "code",
   "execution_count": 6,
   "id": "a615a35d",
   "metadata": {},
   "outputs": [
    {
     "data": {
      "text/plain": [
       "array(['Pass', 'Fail', 'Pass', 'Pass', 'Pass', 'Fail', 'Fail', 'Pass',\n",
       "       'Pass', 'Fail'], dtype=object)"
      ]
     },
     "execution_count": 6,
     "metadata": {},
     "output_type": "execute_result"
    }
   ],
   "source": [
    "y"
   ]
  },
  {
   "cell_type": "markdown",
   "id": "2d57b1fa",
   "metadata": {},
   "source": [
    "# Handling Missing Values using Simple Imputer"
   ]
  },
  {
   "cell_type": "code",
   "execution_count": 7,
   "id": "13b97457",
   "metadata": {},
   "outputs": [],
   "source": [
    "from sklearn.impute import SimpleImputer"
   ]
  },
  {
   "cell_type": "code",
   "execution_count": 8,
   "id": "dd70b9d0",
   "metadata": {},
   "outputs": [],
   "source": [
    "si=SimpleImputer(missing_values=np.nan,strategy='mean')"
   ]
  },
  {
   "cell_type": "code",
   "execution_count": 9,
   "id": "0dd82f94",
   "metadata": {},
   "outputs": [
    {
     "data": {
      "text/plain": [
       "SimpleImputer()"
      ]
     },
     "execution_count": 9,
     "metadata": {},
     "output_type": "execute_result"
    }
   ],
   "source": [
    "si.fit(x[:,1:])"
   ]
  },
  {
   "cell_type": "code",
   "execution_count": 10,
   "id": "1ba60e09",
   "metadata": {},
   "outputs": [],
   "source": [
    "x[:,1:] = si.transform(x[:,1:])"
   ]
  },
  {
   "cell_type": "code",
   "execution_count": 11,
   "id": "87c1c1f3",
   "metadata": {},
   "outputs": [
    {
     "data": {
      "text/plain": [
       "array([['Tech', 78.0, 98.0],\n",
       "       ['Tech', 64.0, 10.0],\n",
       "       ['Non-Tech', 69.0, 47.42857142857143],\n",
       "       ['Non-Tech', 76.0, 56.0],\n",
       "       ['Tech', 64.0, 47.42857142857143],\n",
       "       ['Tech', 20.0, 40.0],\n",
       "       ['Tech', 64.0, 10.0],\n",
       "       ['Non-Tech', 54.0, 20.0],\n",
       "       ['Tech', 87.0, 98.0],\n",
       "       ['Non-Tech', 64.0, 47.42857142857143]], dtype=object)"
      ]
     },
     "execution_count": 11,
     "metadata": {},
     "output_type": "execute_result"
    }
   ],
   "source": [
    "x"
   ]
  },
  {
   "cell_type": "markdown",
   "id": "92216c71",
   "metadata": {},
   "source": [
    "# One hot Encoding for Features"
   ]
  },
  {
   "cell_type": "code",
   "execution_count": 12,
   "id": "cad1d1f4",
   "metadata": {},
   "outputs": [],
   "source": [
    "from sklearn.compose import ColumnTransformer\n",
    "from sklearn.preprocessing import OneHotEncoder"
   ]
  },
  {
   "cell_type": "code",
   "execution_count": 13,
   "id": "7f2a5eb5",
   "metadata": {},
   "outputs": [],
   "source": [
    "ct = ColumnTransformer(transformers= [('encoder', OneHotEncoder(), [0])], remainder='passthrough')\n",
    "x = np.array( ct.fit_transform(x) )\n"
   ]
  },
  {
   "cell_type": "code",
   "execution_count": 14,
   "id": "8972bd05",
   "metadata": {},
   "outputs": [
    {
     "data": {
      "text/plain": [
       "array([[0.0, 1.0, 78.0, 98.0],\n",
       "       [0.0, 1.0, 64.0, 10.0],\n",
       "       [1.0, 0.0, 69.0, 47.42857142857143],\n",
       "       [1.0, 0.0, 76.0, 56.0],\n",
       "       [0.0, 1.0, 64.0, 47.42857142857143],\n",
       "       [0.0, 1.0, 20.0, 40.0],\n",
       "       [0.0, 1.0, 64.0, 10.0],\n",
       "       [1.0, 0.0, 54.0, 20.0],\n",
       "       [0.0, 1.0, 87.0, 98.0],\n",
       "       [1.0, 0.0, 64.0, 47.42857142857143]], dtype=object)"
      ]
     },
     "execution_count": 14,
     "metadata": {},
     "output_type": "execute_result"
    }
   ],
   "source": [
    "x"
   ]
  },
  {
   "cell_type": "markdown",
   "id": "104a3779",
   "metadata": {},
   "source": [
    "# Label Encoding for Targets"
   ]
  },
  {
   "cell_type": "code",
   "execution_count": 15,
   "id": "89788232",
   "metadata": {},
   "outputs": [],
   "source": [
    "from sklearn.preprocessing import LabelEncoder\n",
    "le = LabelEncoder()\n",
    "y = le.fit_transform(y)"
   ]
  },
  {
   "cell_type": "code",
   "execution_count": 16,
   "id": "855117b3",
   "metadata": {},
   "outputs": [
    {
     "data": {
      "text/plain": [
       "array([1, 0, 1, 1, 1, 0, 0, 1, 1, 0])"
      ]
     },
     "execution_count": 16,
     "metadata": {},
     "output_type": "execute_result"
    }
   ],
   "source": [
    "y"
   ]
  },
  {
   "cell_type": "markdown",
   "id": "98d61ef2",
   "metadata": {},
   "source": [
    "# Splitting the dataset into Training Data and Testing Data"
   ]
  },
  {
   "cell_type": "code",
   "execution_count": 22,
   "id": "01065e0d",
   "metadata": {},
   "outputs": [],
   "source": [
    "from sklearn.model_selection import train_test_split\n",
    "xtrain,xtest,ytrain,ytest=train_test_split(x,y,test_size=0.2,random_state=0)"
   ]
  },
  {
   "cell_type": "markdown",
   "id": "74207eaa",
   "metadata": {},
   "source": [
    "# Feature Scaling with Standard Scaler"
   ]
  },
  {
   "cell_type": "code",
   "execution_count": 23,
   "id": "5c2d75c8",
   "metadata": {},
   "outputs": [],
   "source": [
    "from sklearn.preprocessing import StandardScaler\n",
    "sc=StandardScaler()\n"
   ]
  },
  {
   "cell_type": "code",
   "execution_count": 24,
   "id": "da297428",
   "metadata": {},
   "outputs": [],
   "source": [
    "from  sklearn.preprocessing import StandardScaler\n",
    "sc=StandardScaler()\n",
    "\n",
    "xtrain[:,2:]=sc.fit_transform(xtrain[:,2:])\n",
    "xtest[:,2:]=sc.fit_transform(xtest[:,2:])"
   ]
  },
  {
   "cell_type": "code",
   "execution_count": 25,
   "id": "87f2458f",
   "metadata": {},
   "outputs": [
    {
     "data": {
      "text/plain": [
       "array([[0.0, 1.0, 0.2074130978310859, 0.2323693217003598],\n",
       "       [1.0, 0.0, 0.2074130978310859, 0.2323693217003598],\n",
       "       [0.0, 1.0, 0.2074130978310859, -1.1434671141300194],\n",
       "       [0.0, 1.0, 0.2074130978310859, -1.1434671141300194],\n",
       "       [1.0, 0.0, -0.38519575311487386, -0.775877226694422],\n",
       "       [1.0, 0.0, 0.9185437189662377, 0.547446368073729],\n",
       "       [0.0, 1.0, 1.0370654891554296, 2.0913238953032387],\n",
       "       [0.0, 1.0, -2.400065846331137, -0.04069745182322702]], dtype=object)"
      ]
     },
     "execution_count": 25,
     "metadata": {},
     "output_type": "execute_result"
    }
   ],
   "source": [
    "xtrain"
   ]
  },
  {
   "cell_type": "code",
   "execution_count": 26,
   "id": "b8e35ed8",
   "metadata": {},
   "outputs": [
    {
     "data": {
      "text/plain": [
       "array([[1.0, 0.0, -1.0, -1.0000000000000002],\n",
       "       [0.0, 1.0, 1.0, 0.9999999999999997]], dtype=object)"
      ]
     },
     "execution_count": 26,
     "metadata": {},
     "output_type": "execute_result"
    }
   ],
   "source": [
    "xtest"
   ]
  },
  {
   "cell_type": "code",
   "execution_count": null,
   "id": "3bf5ea4f",
   "metadata": {},
   "outputs": [],
   "source": []
  }
 ],
 "metadata": {
  "kernelspec": {
   "display_name": "Python 3",
   "language": "python",
   "name": "python3"
  },
  "language_info": {
   "codemirror_mode": {
    "name": "ipython",
    "version": 3
   },
   "file_extension": ".py",
   "mimetype": "text/x-python",
   "name": "python",
   "nbconvert_exporter": "python",
   "pygments_lexer": "ipython3",
   "version": "3.8.8"
  }
 },
 "nbformat": 4,
 "nbformat_minor": 5
}
